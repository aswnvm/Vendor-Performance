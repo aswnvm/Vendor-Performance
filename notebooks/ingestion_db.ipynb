{
 "cells": [
  {
   "cell_type": "code",
   "execution_count": 3,
   "id": "70ee754b-5eaa-4e8a-b78f-c49007c6ccc4",
   "metadata": {},
   "outputs": [],
   "source": [
    "import pandas as pd\n",
    "import os\n",
    "from sqlalchemy import create_engine\n",
    "import logging\n",
    "import time\n",
    "\n",
    "logging.basicConfig(\n",
    "    filename = \"../assets/logs/ingestion_db.log\",\n",
    "    level = logging.DEBUG,\n",
    "    format = \"%(asctime)s - %(levelname)s - %(message)s\",\n",
    "    filemode = \"a\"\n",
    ")\n",
    "\n",
    "engine = create_engine('sqlite:///inventory.db')\n",
    "\n",
    "def ingest_db(df, table_name, engine):\n",
    "    '''This function ingests dataframe into db tables'''\n",
    "    df.to_sql(table_name, con=engine, if_exists = 'replace', index = False)\n",
    "    \n",
    "def load_raw_data():\n",
    "    '''This function loads the CSVs as dataframe and ingests into db'''\n",
    "    start_time = time.time()\n",
    "    for file in os.listdir('../assets/data'):\n",
    "        if '.csv' in file:\n",
    "            df = pd.read_csv('../assets/data/'+file)\n",
    "            logging.info(f'Ingesting {file} in db')\n",
    "            ingest_db(df, file[:-4], engine)\n",
    "    end_time = time.time()\n",
    "    total_time =  (end_time - start_time)/60\n",
    "    logging.info(\"--------Ingestion Complete----------\")\n",
    "    logging.info(f\"\\nTotal Time Taken: {total_time} minutes\")\n",
    "    \n",
    "if __name__ == '__main__':\n",
    "    load_raw_data()"
   ]
  },
  {
   "cell_type": "code",
   "execution_count": null,
   "id": "f36ac5eb-2229-4d7a-b48c-d5e6fbdfcc9a",
   "metadata": {},
   "outputs": [],
   "source": []
  }
 ],
 "metadata": {
  "kernelspec": {
   "display_name": "Python 3 (ipykernel)",
   "language": "python",
   "name": "python3"
  },
  "language_info": {
   "codemirror_mode": {
    "name": "ipython",
    "version": 3
   },
   "file_extension": ".py",
   "mimetype": "text/x-python",
   "name": "python",
   "nbconvert_exporter": "python",
   "pygments_lexer": "ipython3",
   "version": "3.13.2"
  },
  "widgets": {
   "application/vnd.jupyter.widget-state+json": {
    "state": {},
    "version_major": 2,
    "version_minor": 0
   }
  }
 },
 "nbformat": 4,
 "nbformat_minor": 5
}
